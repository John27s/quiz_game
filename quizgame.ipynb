{
 "cells": [
  {
   "cell_type": "code",
   "execution_count": null,
   "metadata": {},
   "outputs": [],
   "source": [
    "print(\"Welcome to my computer quiz!\")\n",
    "\n",
    "playing = input(\"Do you wat to play? \")\n",
    "\n",
    "if playing.lower() != \"yes\":\n",
    "    quit()\n",
    "\n",
    "print(\"okay! Let's play :)\")\n",
    "score=0\n",
    "\n",
    "answer = input(\"What does GPU stand for? \")\n",
    "if answer.lower() == \"Graphics processing unit\":\n",
    "    print('Correct!')\n",
    "    score += 1\n",
    "else:\n",
    "    print(\"Incorrect!\")\n",
    "\n",
    "answer = input(\"What does RAM stand for? \")\n",
    "if answer.lower() == \"Random Access Memory\":\n",
    "    print('Correct!')\n",
    "    score += 1\n",
    "else:\n",
    "    print(\"Incorrect!\")\n",
    "\n",
    "answer = input(\"What does PSU stand for? \")\n",
    "if answer.lower() == \"Power Supplay\":\n",
    "    print('Correct!')\n",
    "    score += 1\n",
    "else:\n",
    "    print(\"Incorrect!\")\n",
    "\n",
    "answer = input(\"What does CPU stand for? \")\n",
    "if answer.lower() == \"Central processing unit\":\n",
    "    print('Correct!')\n",
    "    score += 1\n",
    "else:\n",
    "    print(\"Incorrect!\")\n",
    "\n",
    "print(\"You got \" + str(score) + \" qustions correct!\")\n",
    "print(\"You got \" + str((score / 4) * 100) + \"%.\")"
   ]
  },
  {
   "cell_type": "code",
   "execution_count": 4,
   "metadata": {},
   "outputs": [
    {
     "name": "stdout",
     "output_type": "stream",
     "text": [
      "Welcome to my computer quiz!\n",
      "okay! Let's play :)\n",
      "Correct!\n",
      "Incorrect!\n",
      "Incorrect!\n",
      "Correct!\n",
      "You got 2 qustions correct!\n",
      "You got 50.0%.\n"
     ]
    }
   ],
   "source": [
    "print(\"Welcome to my computer quiz!\")\n",
    "\n",
    "playing = input(\"Do you wat to play? \")\n",
    "\n",
    "if playing.lower() != \"yes\":\n",
    "    quit()\n",
    "\n",
    "print(\"okay! Let's play :)\")\n",
    "score=0\n",
    "\n",
    "answer = input(\"What does GPU stand for? \")\n",
    "if answer.lower() == \"graphics processing unit\":\n",
    "    print('Correct!')\n",
    "    score += 1\n",
    "else:\n",
    "    print(\"Incorrect!\")\n",
    "\n",
    "answer = input(\"What does RAM stand for? \")\n",
    "if answer.lower() == \"random access memory\":\n",
    "    print('Correct!')\n",
    "    score += 1\n",
    "else:\n",
    "    print(\"Incorrect!\")\n",
    "\n",
    "answer = input(\"What does PSU stand for? \")\n",
    "if answer.lower() == \"power supply\":\n",
    "    print('Correct!')\n",
    "    score += 1\n",
    "else:\n",
    "    print(\"Incorrect!\")\n",
    "\n",
    "answer = input(\"What does CPU stand for? \")\n",
    "if answer.lower() == \"central processing unit\":\n",
    "    print('Correct!')\n",
    "    score += 1\n",
    "else:\n",
    "    print(\"Incorrect!\")\n",
    "\n",
    "print(\"You got \" + str(score) + \" qustions correct!\")\n",
    "print(\"You got \" + str((score / 4) * 100) + \"%.\")"
   ]
  }
 ],
 "metadata": {
  "kernelspec": {
   "display_name": "Python 3",
   "language": "python",
   "name": "python3"
  },
  "language_info": {
   "codemirror_mode": {
    "name": "ipython",
    "version": 3
   },
   "file_extension": ".py",
   "mimetype": "text/x-python",
   "name": "python",
   "nbconvert_exporter": "python",
   "pygments_lexer": "ipython3",
   "version": "3.12.4"
  }
 },
 "nbformat": 4,
 "nbformat_minor": 2
}
